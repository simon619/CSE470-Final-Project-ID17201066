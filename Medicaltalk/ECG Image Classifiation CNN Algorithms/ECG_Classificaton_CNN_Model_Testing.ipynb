{
  "nbformat": 4,
  "nbformat_minor": 0,
  "metadata": {
    "colab": {
      "name": "ECG_Classificaton_CNN_Model_Testing.ipynb",
      "provenance": [],
      "collapsed_sections": []
    },
    "kernelspec": {
      "name": "python3",
      "display_name": "Python 3"
    },
    "language_info": {
      "name": "python"
    }
  },
  "cells": [
    {
      "cell_type": "code",
      "source": [
        "import os\n",
        "import matplotlib.pyplot as plt\n",
        "import tensorflow as tf\n",
        "import cv2"
      ],
      "metadata": {
        "id": "NdL4DrKWFDTD"
      },
      "execution_count": null,
      "outputs": []
    },
    {
      "cell_type": "code",
      "source": [
        "for dirname, _, filenames in os.walk('/content/drive/MyDrive/Colab Notebooks/Dataset/ECG'):\n",
        "    for filename in filenames:\n",
        "        os.path.join(dirname, filename)"
      ],
      "metadata": {
        "id": "mb8_q_MaFEur"
      },
      "execution_count": null,
      "outputs": []
    },
    {
      "cell_type": "code",
      "source": [
        "from google.colab import drive\n",
        "drive.mount('/content/drive')"
      ],
      "metadata": {
        "colab": {
          "base_uri": "https://localhost:8080/"
        },
        "id": "k_c2EnkdFJy6",
        "outputId": "d73d0af8-5d68-4761-a213-61510c2a36a8"
      },
      "execution_count": null,
      "outputs": [
        {
          "output_type": "stream",
          "name": "stdout",
          "text": [
            "Mounted at /content/drive\n"
          ]
        }
      ]
    },
    {
      "cell_type": "code",
      "source": [
        "CATEGORIES = ['MI Patient', 'Normal']"
      ],
      "metadata": {
        "id": "w6RR1XM0F-Ze"
      },
      "execution_count": null,
      "outputs": []
    },
    {
      "cell_type": "code",
      "source": [
        "def prepare(filepath):\n",
        "    IMG_SIZE = 100  \n",
        "    img_array = cv2.imread(filepath, cv2.IMREAD_GRAYSCALE)\n",
        "    new_array = cv2.resize(img_array, (IMG_SIZE, IMG_SIZE))\n",
        "    #plt.imshow(img_array, cmap='gray')  \n",
        "    #plt.show()\n",
        "    return new_array.reshape(-1, IMG_SIZE, IMG_SIZE, 1)\n",
        "\n",
        "model = tf.keras.models.load_model(\"/content/drive/MyDrive/Colab Notebooks/H5 file/ECG_Classificaton_CNN_Model.h5\")\n",
        "\n",
        "prediction = model.predict([prepare('/content/drive/MyDrive/Colab Notebooks/DS2/ECG/MI Patient/MI(103).jpg')])\n",
        "#print(prediction)  \n",
        "print(CATEGORIES[int(prediction[0][0])])"
      ],
      "metadata": {
        "colab": {
          "base_uri": "https://localhost:8080/"
        },
        "id": "uSn_OOjLFRFF",
        "outputId": "3a6f3f67-e11d-4c3a-cc9d-386f5ce5edf4"
      },
      "execution_count": null,
      "outputs": [
        {
          "output_type": "stream",
          "name": "stdout",
          "text": [
            "MI Patient\n"
          ]
        }
      ]
    }
  ]
}