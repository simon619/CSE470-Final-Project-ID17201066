{
  "nbformat": 4,
  "nbformat_minor": 0,
  "metadata": {
    "colab": {
      "name": "ECG_Classificaton_CNN_Model.ipynb",
      "provenance": [],
      "collapsed_sections": []
    },
    "kernelspec": {
      "name": "python3",
      "display_name": "Python 3"
    },
    "language_info": {
      "name": "python"
    }
  },
  "cells": [
    {
      "cell_type": "code",
      "execution_count": null,
      "metadata": {
        "colab": {
          "base_uri": "https://localhost:8080/"
        },
        "id": "Wg5RMG285xSj",
        "outputId": "70347fbf-3762-40c8-8ea4-2bdc11f9edc3"
      },
      "outputs": [
        {
          "output_type": "stream",
          "name": "stdout",
          "text": [
            "Requirement already satisfied: pyyaml in /usr/local/lib/python3.7/dist-packages (3.13)\n",
            "Requirement already satisfied: h5py in /usr/local/lib/python3.7/dist-packages (3.1.0)\n",
            "Requirement already satisfied: numpy>=1.14.5 in /usr/local/lib/python3.7/dist-packages (from h5py) (1.19.5)\n",
            "Requirement already satisfied: cached-property in /usr/local/lib/python3.7/dist-packages (from h5py) (1.5.2)\n"
          ]
        }
      ],
      "source": [
        "pip install pyyaml h5py  # Required to save models in HDF5 format"
      ]
    },
    {
      "cell_type": "code",
      "source": [
        "import numpy as np\n",
        "import matplotlib.pyplot as plt\n",
        "from tqdm import tqdm\n",
        "import os\n",
        "import cv2\n",
        "import random\n",
        "import tensorflow as tf\n",
        "from sklearn.model_selection import train_test_split\n",
        "from tensorflow.keras.models import Sequential\n",
        "from tensorflow.keras.layers import Dense, Dropout, Activation, Flatten, BatchNormalization\n",
        "from tensorflow.keras.layers import Conv2D, MaxPooling2D\n",
        "from tensorflow.keras.callbacks import TensorBoard\n",
        "import pickle\n",
        "import time\n",
        "import pandas as pd\n",
        "from google.colab import files\n",
        "print(tf.version.VERSION)"
      ],
      "metadata": {
        "colab": {
          "base_uri": "https://localhost:8080/"
        },
        "id": "UH8npydg57C3",
        "outputId": "49e9e793-4aa3-40d7-a160-3c43948942b2"
      },
      "execution_count": null,
      "outputs": [
        {
          "output_type": "stream",
          "name": "stdout",
          "text": [
            "2.7.0\n"
          ]
        }
      ]
    },
    {
      "cell_type": "code",
      "source": [
        "for dirname, _, filenames in os.walk('/content/drive/MyDrive/Colab Notebooks/Dataset/ECG'):\n",
        "    for filename in filenames:\n",
        "        os.path.join(dirname, filename)"
      ],
      "metadata": {
        "id": "WfrIBfjA6Mdg"
      },
      "execution_count": null,
      "outputs": []
    },
    {
      "cell_type": "code",
      "source": [
        "from google.colab import drive\n",
        "drive.mount('/content/drive')"
      ],
      "metadata": {
        "colab": {
          "base_uri": "https://localhost:8080/"
        },
        "id": "OUwBhNCv6Wyz",
        "outputId": "80025126-6f93-49d5-daff-6314a0a5afef"
      },
      "execution_count": null,
      "outputs": [
        {
          "output_type": "stream",
          "name": "stdout",
          "text": [
            "Mounted at /content/drive\n"
          ]
        }
      ]
    },
    {
      "cell_type": "code",
      "source": [
        "DATADIR = '/content/drive/MyDrive/Colab Notebooks/DS2/ECG'\n",
        "CATEGORIES = ['MI Patient', 'Normal']"
      ],
      "metadata": {
        "id": "VlXYKUvP6ezT"
      },
      "execution_count": null,
      "outputs": []
    },
    {
      "cell_type": "code",
      "source": [
        "IMG_SIZE = 100\n",
        "\n",
        "training_data = []\n",
        "Number_of_DATA_Per_Label = []\n",
        "def create_training_data():\n",
        "    for category in CATEGORIES: \n",
        "        counter = 0\n",
        "        path = os.path.join(DATADIR,category)  \n",
        "        class_num = CATEGORIES.index(category)  \n",
        "\n",
        "        for img in tqdm(os.listdir(path)):  \n",
        "            try:\n",
        "                img_array = cv2.imread(os.path.join(path,img) ,cv2.IMREAD_GRAYSCALE) \n",
        "                new_array = cv2.resize(img_array, (IMG_SIZE, IMG_SIZE)) \n",
        "                training_data.append([new_array, class_num])\n",
        "                counter+=1   \n",
        "            except Exception as e: \n",
        "                pass\n",
        "        Number_of_DATA_Per_Label.append(counter)        \n",
        "\n",
        "create_training_data()\n",
        "\n",
        "print(len(training_data))\n"
      ],
      "metadata": {
        "colab": {
          "base_uri": "https://localhost:8080/"
        },
        "id": "Xpv-Hfxu6iJd",
        "outputId": "c2b70e2b-8be2-47b9-a91c-78909564fef4"
      },
      "execution_count": null,
      "outputs": [
        {
          "output_type": "stream",
          "name": "stderr",
          "text": [
            "100%|██████████| 239/239 [00:07<00:00, 31.90it/s]\n",
            "100%|██████████| 240/240 [00:07<00:00, 31.70it/s]"
          ]
        },
        {
          "output_type": "stream",
          "name": "stdout",
          "text": [
            "479\n"
          ]
        },
        {
          "output_type": "stream",
          "name": "stderr",
          "text": [
            "\n"
          ]
        }
      ]
    },
    {
      "cell_type": "code",
      "source": [
        "print(CATEGORIES)"
      ],
      "metadata": {
        "colab": {
          "base_uri": "https://localhost:8080/"
        },
        "id": "bxRLWFHx631u",
        "outputId": "9ce5a556-9279-482d-97ba-7407e3b99a99"
      },
      "execution_count": null,
      "outputs": [
        {
          "output_type": "stream",
          "name": "stdout",
          "text": [
            "['MI Patient', 'Normal']\n"
          ]
        }
      ]
    },
    {
      "cell_type": "code",
      "source": [
        "print(Number_of_DATA_Per_Label)"
      ],
      "metadata": {
        "colab": {
          "base_uri": "https://localhost:8080/"
        },
        "id": "9SxYW-ZS7Fht",
        "outputId": "8514f87a-a64d-4296-ebe5-54c1a1d7e02d"
      },
      "execution_count": null,
      "outputs": [
        {
          "output_type": "stream",
          "name": "stdout",
          "text": [
            "[239, 240]\n"
          ]
        }
      ]
    },
    {
      "cell_type": "code",
      "source": [
        "random.shuffle(training_data)\n",
        "for sample in training_data[:10]:\n",
        "    print(sample[1])"
      ],
      "metadata": {
        "colab": {
          "base_uri": "https://localhost:8080/"
        },
        "id": "vbNK1Slr7N5M",
        "outputId": "6836e3b4-728b-496e-8a38-f6d1e28a39a1"
      },
      "execution_count": null,
      "outputs": [
        {
          "output_type": "stream",
          "name": "stdout",
          "text": [
            "1\n",
            "1\n",
            "1\n",
            "1\n",
            "1\n",
            "0\n",
            "1\n",
            "0\n",
            "1\n",
            "0\n"
          ]
        }
      ]
    },
    {
      "cell_type": "code",
      "source": [
        "TD = np.array(training_data)"
      ],
      "metadata": {
        "colab": {
          "base_uri": "https://localhost:8080/"
        },
        "id": "_YIIeGoP7Qrr",
        "outputId": "f1e4d10f-e024-462b-9a28-ca82e1a1f9ed"
      },
      "execution_count": null,
      "outputs": [
        {
          "output_type": "stream",
          "name": "stderr",
          "text": [
            "/usr/local/lib/python3.7/dist-packages/ipykernel_launcher.py:1: VisibleDeprecationWarning: Creating an ndarray from ragged nested sequences (which is a list-or-tuple of lists-or-tuples-or ndarrays with different lengths or shapes) is deprecated. If you meant to do this, you must specify 'dtype=object' when creating the ndarray\n",
            "  \"\"\"Entry point for launching an IPython kernel.\n"
          ]
        }
      ]
    },
    {
      "cell_type": "code",
      "source": [
        "print(TD[1: 10])"
      ],
      "metadata": {
        "colab": {
          "base_uri": "https://localhost:8080/"
        },
        "id": "-A36rHss7THR",
        "outputId": "f2c6ebcc-8ecc-4807-a2ed-6fc15a6ad234"
      },
      "execution_count": null,
      "outputs": [
        {
          "output_type": "stream",
          "name": "stdout",
          "text": [
            "[[array([[255, 255, 255, ..., 255, 255, 255],\n",
            "       [255, 255, 255, ..., 255, 255, 255],\n",
            "       [255, 255, 255, ..., 255, 255, 255],\n",
            "       ...,\n",
            "       [255, 255, 255, ..., 255, 255, 255],\n",
            "       [255, 255, 255, ..., 255, 255, 255],\n",
            "       [255, 255, 255, ..., 255, 255, 255]], dtype=uint8)\n",
            "  1]\n",
            " [array([[255, 255, 255, ..., 255, 255, 255],\n",
            "       [255, 255, 255, ..., 255, 255, 255],\n",
            "       [255, 255, 255, ..., 255, 255, 255],\n",
            "       ...,\n",
            "       [255, 255, 255, ..., 255, 255, 255],\n",
            "       [255, 255, 255, ..., 255, 255, 255],\n",
            "       [255, 255, 255, ..., 255, 255, 255]], dtype=uint8)\n",
            "  1]\n",
            " [array([[255, 255, 255, ..., 255, 255, 255],\n",
            "       [255, 255, 255, ..., 255, 255, 255],\n",
            "       [255, 255, 255, ..., 255, 255, 255],\n",
            "       ...,\n",
            "       [255, 255, 255, ..., 255, 255, 255],\n",
            "       [255, 255, 255, ..., 255, 255, 255],\n",
            "       [255, 255, 255, ..., 255, 255, 255]], dtype=uint8)\n",
            "  1]\n",
            " [array([[255, 255, 255, ..., 255, 255, 255],\n",
            "       [255, 255, 255, ..., 255, 255, 255],\n",
            "       [255, 255, 255, ..., 255, 255, 255],\n",
            "       ...,\n",
            "       [255, 255, 255, ..., 255, 255, 255],\n",
            "       [255, 255, 255, ..., 255, 255, 255],\n",
            "       [255, 255, 255, ..., 255, 255, 255]], dtype=uint8)\n",
            "  1]\n",
            " [array([[255, 255, 255, ..., 255, 255, 255],\n",
            "       [255, 255, 255, ..., 255, 255, 255],\n",
            "       [255, 255, 255, ..., 255, 255, 255],\n",
            "       ...,\n",
            "       [255, 255, 255, ..., 255, 255, 255],\n",
            "       [255, 255, 255, ..., 255, 255, 255],\n",
            "       [255, 255, 255, ..., 255, 255, 255]], dtype=uint8)\n",
            "  0]\n",
            " [array([[255, 255, 255, ..., 255, 255, 255],\n",
            "       [255, 255, 255, ..., 255, 255, 255],\n",
            "       [255, 255, 255, ..., 255, 255, 255],\n",
            "       ...,\n",
            "       [255, 255, 255, ..., 255, 255, 255],\n",
            "       [255, 255, 255, ..., 255, 255, 255],\n",
            "       [255, 255, 255, ..., 255, 255, 255]], dtype=uint8)\n",
            "  1]\n",
            " [array([[255, 255, 255, ..., 255, 255, 255],\n",
            "       [255, 255, 255, ..., 255, 255, 255],\n",
            "       [255, 255, 255, ..., 255, 255, 255],\n",
            "       ...,\n",
            "       [255, 255, 255, ..., 255, 255, 255],\n",
            "       [255, 255, 255, ..., 255, 255, 255],\n",
            "       [255, 255, 255, ..., 255, 255, 255]], dtype=uint8)\n",
            "  0]\n",
            " [array([[255, 255, 255, ..., 255, 255, 255],\n",
            "       [255, 255, 255, ..., 255, 255, 255],\n",
            "       [255, 255, 255, ..., 255, 255, 255],\n",
            "       ...,\n",
            "       [255, 255, 255, ..., 255, 255, 255],\n",
            "       [255, 255, 255, ..., 255, 255, 255],\n",
            "       [255, 255, 255, ..., 255, 255, 255]], dtype=uint8)\n",
            "  1]\n",
            " [array([[255, 255, 255, ..., 255, 255, 255],\n",
            "       [255, 255, 255, ..., 255, 255, 255],\n",
            "       [255, 255, 255, ..., 255, 255, 255],\n",
            "       ...,\n",
            "       [255, 255, 255, ..., 255, 255, 255],\n",
            "       [255, 255, 255, ..., 255, 255, 255],\n",
            "       [255, 255, 255, ..., 255, 255, 255]], dtype=uint8)\n",
            "  0]]\n"
          ]
        }
      ]
    },
    {
      "cell_type": "code",
      "source": [
        "dataset = pd.DataFrame({'Category': TD[:, 0], 'Label': TD[:, 1]})"
      ],
      "metadata": {
        "id": "kfuiAIYQ7ahF"
      },
      "execution_count": null,
      "outputs": []
    },
    {
      "cell_type": "code",
      "source": [
        "print(dataset)"
      ],
      "metadata": {
        "colab": {
          "base_uri": "https://localhost:8080/"
        },
        "id": "h9CJ6sX97cHN",
        "outputId": "330b132a-a88d-42c4-d087-b64cdb82f6b8"
      },
      "execution_count": null,
      "outputs": [
        {
          "output_type": "stream",
          "name": "stdout",
          "text": [
            "                                              Category Label\n",
            "0    [[255, 255, 255, 255, 255, 255, 255, 255, 255,...     1\n",
            "1    [[255, 255, 255, 255, 255, 255, 255, 255, 255,...     1\n",
            "2    [[255, 255, 255, 255, 255, 255, 255, 255, 255,...     1\n",
            "3    [[255, 255, 255, 255, 255, 255, 255, 255, 255,...     1\n",
            "4    [[255, 255, 255, 255, 255, 255, 255, 255, 255,...     1\n",
            "..                                                 ...   ...\n",
            "474  [[255, 255, 255, 255, 255, 255, 255, 255, 255,...     1\n",
            "475  [[255, 255, 255, 255, 255, 255, 255, 255, 255,...     1\n",
            "476  [[255, 255, 255, 255, 255, 255, 255, 255, 255,...     0\n",
            "477  [[255, 255, 255, 255, 255, 255, 255, 255, 255,...     1\n",
            "478  [[255, 255, 255, 255, 255, 255, 255, 255, 255,...     0\n",
            "\n",
            "[479 rows x 2 columns]\n"
          ]
        }
      ]
    },
    {
      "cell_type": "code",
      "source": [
        "dataset.head()"
      ],
      "metadata": {
        "colab": {
          "base_uri": "https://localhost:8080/",
          "height": 206
        },
        "id": "hJIRhEIV7e7q",
        "outputId": "c97d9430-ccaa-4449-9b11-50ce5a29a063"
      },
      "execution_count": null,
      "outputs": [
        {
          "output_type": "execute_result",
          "data": {
            "text/html": [
              "\n",
              "  <div id=\"df-a8f8b27a-0eda-416d-ab34-38725271bcd8\">\n",
              "    <div class=\"colab-df-container\">\n",
              "      <div>\n",
              "<style scoped>\n",
              "    .dataframe tbody tr th:only-of-type {\n",
              "        vertical-align: middle;\n",
              "    }\n",
              "\n",
              "    .dataframe tbody tr th {\n",
              "        vertical-align: top;\n",
              "    }\n",
              "\n",
              "    .dataframe thead th {\n",
              "        text-align: right;\n",
              "    }\n",
              "</style>\n",
              "<table border=\"1\" class=\"dataframe\">\n",
              "  <thead>\n",
              "    <tr style=\"text-align: right;\">\n",
              "      <th></th>\n",
              "      <th>Category</th>\n",
              "      <th>Label</th>\n",
              "    </tr>\n",
              "  </thead>\n",
              "  <tbody>\n",
              "    <tr>\n",
              "      <th>0</th>\n",
              "      <td>[[255, 255, 255, 255, 255, 255, 255, 255, 255,...</td>\n",
              "      <td>1</td>\n",
              "    </tr>\n",
              "    <tr>\n",
              "      <th>1</th>\n",
              "      <td>[[255, 255, 255, 255, 255, 255, 255, 255, 255,...</td>\n",
              "      <td>1</td>\n",
              "    </tr>\n",
              "    <tr>\n",
              "      <th>2</th>\n",
              "      <td>[[255, 255, 255, 255, 255, 255, 255, 255, 255,...</td>\n",
              "      <td>1</td>\n",
              "    </tr>\n",
              "    <tr>\n",
              "      <th>3</th>\n",
              "      <td>[[255, 255, 255, 255, 255, 255, 255, 255, 255,...</td>\n",
              "      <td>1</td>\n",
              "    </tr>\n",
              "    <tr>\n",
              "      <th>4</th>\n",
              "      <td>[[255, 255, 255, 255, 255, 255, 255, 255, 255,...</td>\n",
              "      <td>1</td>\n",
              "    </tr>\n",
              "  </tbody>\n",
              "</table>\n",
              "</div>\n",
              "      <button class=\"colab-df-convert\" onclick=\"convertToInteractive('df-a8f8b27a-0eda-416d-ab34-38725271bcd8')\"\n",
              "              title=\"Convert this dataframe to an interactive table.\"\n",
              "              style=\"display:none;\">\n",
              "        \n",
              "  <svg xmlns=\"http://www.w3.org/2000/svg\" height=\"24px\"viewBox=\"0 0 24 24\"\n",
              "       width=\"24px\">\n",
              "    <path d=\"M0 0h24v24H0V0z\" fill=\"none\"/>\n",
              "    <path d=\"M18.56 5.44l.94 2.06.94-2.06 2.06-.94-2.06-.94-.94-2.06-.94 2.06-2.06.94zm-11 1L8.5 8.5l.94-2.06 2.06-.94-2.06-.94L8.5 2.5l-.94 2.06-2.06.94zm10 10l.94 2.06.94-2.06 2.06-.94-2.06-.94-.94-2.06-.94 2.06-2.06.94z\"/><path d=\"M17.41 7.96l-1.37-1.37c-.4-.4-.92-.59-1.43-.59-.52 0-1.04.2-1.43.59L10.3 9.45l-7.72 7.72c-.78.78-.78 2.05 0 2.83L4 21.41c.39.39.9.59 1.41.59.51 0 1.02-.2 1.41-.59l7.78-7.78 2.81-2.81c.8-.78.8-2.07 0-2.86zM5.41 20L4 18.59l7.72-7.72 1.47 1.35L5.41 20z\"/>\n",
              "  </svg>\n",
              "      </button>\n",
              "      \n",
              "  <style>\n",
              "    .colab-df-container {\n",
              "      display:flex;\n",
              "      flex-wrap:wrap;\n",
              "      gap: 12px;\n",
              "    }\n",
              "\n",
              "    .colab-df-convert {\n",
              "      background-color: #E8F0FE;\n",
              "      border: none;\n",
              "      border-radius: 50%;\n",
              "      cursor: pointer;\n",
              "      display: none;\n",
              "      fill: #1967D2;\n",
              "      height: 32px;\n",
              "      padding: 0 0 0 0;\n",
              "      width: 32px;\n",
              "    }\n",
              "\n",
              "    .colab-df-convert:hover {\n",
              "      background-color: #E2EBFA;\n",
              "      box-shadow: 0px 1px 2px rgba(60, 64, 67, 0.3), 0px 1px 3px 1px rgba(60, 64, 67, 0.15);\n",
              "      fill: #174EA6;\n",
              "    }\n",
              "\n",
              "    [theme=dark] .colab-df-convert {\n",
              "      background-color: #3B4455;\n",
              "      fill: #D2E3FC;\n",
              "    }\n",
              "\n",
              "    [theme=dark] .colab-df-convert:hover {\n",
              "      background-color: #434B5C;\n",
              "      box-shadow: 0px 1px 3px 1px rgba(0, 0, 0, 0.15);\n",
              "      filter: drop-shadow(0px 1px 2px rgba(0, 0, 0, 0.3));\n",
              "      fill: #FFFFFF;\n",
              "    }\n",
              "  </style>\n",
              "\n",
              "      <script>\n",
              "        const buttonEl =\n",
              "          document.querySelector('#df-a8f8b27a-0eda-416d-ab34-38725271bcd8 button.colab-df-convert');\n",
              "        buttonEl.style.display =\n",
              "          google.colab.kernel.accessAllowed ? 'block' : 'none';\n",
              "\n",
              "        async function convertToInteractive(key) {\n",
              "          const element = document.querySelector('#df-a8f8b27a-0eda-416d-ab34-38725271bcd8');\n",
              "          const dataTable =\n",
              "            await google.colab.kernel.invokeFunction('convertToInteractive',\n",
              "                                                     [key], {});\n",
              "          if (!dataTable) return;\n",
              "\n",
              "          const docLinkHtml = 'Like what you see? Visit the ' +\n",
              "            '<a target=\"_blank\" href=https://colab.research.google.com/notebooks/data_table.ipynb>data table notebook</a>'\n",
              "            + ' to learn more about interactive tables.';\n",
              "          element.innerHTML = '';\n",
              "          dataTable['output_type'] = 'display_data';\n",
              "          await google.colab.output.renderOutput(dataTable, element);\n",
              "          const docLink = document.createElement('div');\n",
              "          docLink.innerHTML = docLinkHtml;\n",
              "          element.appendChild(docLink);\n",
              "        }\n",
              "      </script>\n",
              "    </div>\n",
              "  </div>\n",
              "  "
            ],
            "text/plain": [
              "                                            Category Label\n",
              "0  [[255, 255, 255, 255, 255, 255, 255, 255, 255,...     1\n",
              "1  [[255, 255, 255, 255, 255, 255, 255, 255, 255,...     1\n",
              "2  [[255, 255, 255, 255, 255, 255, 255, 255, 255,...     1\n",
              "3  [[255, 255, 255, 255, 255, 255, 255, 255, 255,...     1\n",
              "4  [[255, 255, 255, 255, 255, 255, 255, 255, 255,...     1"
            ]
          },
          "metadata": {},
          "execution_count": 16
        }
      ]
    },
    {
      "cell_type": "code",
      "source": [
        "X = []\n",
        "y = []\n",
        "\n",
        "\n",
        "for features,label in training_data:\n",
        "    X.append(features)\n",
        "    np.array((y, label))\n",
        "    y.append(label)\n",
        "    \n",
        "\n",
        "print(X[0].reshape(-1, IMG_SIZE, IMG_SIZE, 1))\n",
        "\n",
        "X = np.array(X).reshape(-1, IMG_SIZE, IMG_SIZE, 1)\n",
        "y=np.array(y)"
      ],
      "metadata": {
        "colab": {
          "base_uri": "https://localhost:8080/"
        },
        "id": "rf3kX-2v7ktD",
        "outputId": "f7cc68b4-d31d-4859-8cbf-d357e333d712"
      },
      "execution_count": null,
      "outputs": [
        {
          "output_type": "stream",
          "name": "stdout",
          "text": [
            "[[[[255]\n",
            "   [255]\n",
            "   [255]\n",
            "   ...\n",
            "   [255]\n",
            "   [255]\n",
            "   [255]]\n",
            "\n",
            "  [[255]\n",
            "   [255]\n",
            "   [255]\n",
            "   ...\n",
            "   [255]\n",
            "   [255]\n",
            "   [255]]\n",
            "\n",
            "  [[255]\n",
            "   [255]\n",
            "   [255]\n",
            "   ...\n",
            "   [255]\n",
            "   [255]\n",
            "   [255]]\n",
            "\n",
            "  ...\n",
            "\n",
            "  [[255]\n",
            "   [255]\n",
            "   [255]\n",
            "   ...\n",
            "   [255]\n",
            "   [255]\n",
            "   [255]]\n",
            "\n",
            "  [[255]\n",
            "   [255]\n",
            "   [255]\n",
            "   ...\n",
            "   [255]\n",
            "   [255]\n",
            "   [255]]\n",
            "\n",
            "  [[255]\n",
            "   [255]\n",
            "   [255]\n",
            "   ...\n",
            "   [255]\n",
            "   [255]\n",
            "   [255]]]]\n"
          ]
        },
        {
          "output_type": "stream",
          "name": "stderr",
          "text": [
            "/usr/local/lib/python3.7/dist-packages/ipykernel_launcher.py:7: VisibleDeprecationWarning: Creating an ndarray from ragged nested sequences (which is a list-or-tuple of lists-or-tuples-or ndarrays with different lengths or shapes) is deprecated. If you meant to do this, you must specify 'dtype=object' when creating the ndarray\n",
            "  import sys\n"
          ]
        }
      ]
    },
    {
      "cell_type": "code",
      "source": [
        "pickle_out = open(\"X.pickle\",\"wb\")\n",
        "pickle.dump(X, pickle_out)\n",
        "pickle_out.close()\n",
        "\n",
        "pickle_out = open(\"y.pickle\",\"wb\")\n",
        "pickle.dump(y, pickle_out)\n",
        "pickle_out.close()\n",
        "\n",
        "pickle_in = open(\"X.pickle\",\"rb\")\n",
        "X = pickle.load(pickle_in)\n",
        "\n",
        "pickle_in = open(\"y.pickle\",\"rb\")\n",
        "y = pickle.load(pickle_in)"
      ],
      "metadata": {
        "id": "dfa6DHtR7q40"
      },
      "execution_count": null,
      "outputs": []
    },
    {
      "cell_type": "code",
      "source": [
        "x_train, x_test, y_train, y_test = train_test_split(X, y)"
      ],
      "metadata": {
        "id": "EZdF6FVX7uE3"
      },
      "execution_count": null,
      "outputs": []
    },
    {
      "cell_type": "code",
      "source": [
        "x_train.shape"
      ],
      "metadata": {
        "colab": {
          "base_uri": "https://localhost:8080/"
        },
        "id": "dp_qfUhP7x9k",
        "outputId": "d9affe25-54ac-430c-ec0e-e37fd108c2e1"
      },
      "execution_count": null,
      "outputs": [
        {
          "output_type": "execute_result",
          "data": {
            "text/plain": [
              "(359, 100, 100, 1)"
            ]
          },
          "metadata": {},
          "execution_count": 20
        }
      ]
    },
    {
      "cell_type": "code",
      "source": [
        "y_train.shape"
      ],
      "metadata": {
        "colab": {
          "base_uri": "https://localhost:8080/"
        },
        "id": "mBgg5u6D7208",
        "outputId": "52aabcf9-73db-4758-cd63-cb3bfb78e251"
      },
      "execution_count": null,
      "outputs": [
        {
          "output_type": "execute_result",
          "data": {
            "text/plain": [
              "(359,)"
            ]
          },
          "metadata": {},
          "execution_count": 21
        }
      ]
    },
    {
      "cell_type": "code",
      "source": [
        "x_test.shape"
      ],
      "metadata": {
        "colab": {
          "base_uri": "https://localhost:8080/"
        },
        "id": "mtytD7If74Ff",
        "outputId": "17ebaf82-659b-437d-f6f8-f0845046b249"
      },
      "execution_count": null,
      "outputs": [
        {
          "output_type": "execute_result",
          "data": {
            "text/plain": [
              "(120, 100, 100, 1)"
            ]
          },
          "metadata": {},
          "execution_count": 22
        }
      ]
    },
    {
      "cell_type": "code",
      "source": [
        "y_test.shape"
      ],
      "metadata": {
        "colab": {
          "base_uri": "https://localhost:8080/"
        },
        "id": "7Kd9RWTM7601",
        "outputId": "f22f0da7-bf1f-4172-9ffb-8e78075c5f3e"
      },
      "execution_count": null,
      "outputs": [
        {
          "output_type": "execute_result",
          "data": {
            "text/plain": [
              "(120,)"
            ]
          },
          "metadata": {},
          "execution_count": 23
        }
      ]
    },
    {
      "cell_type": "code",
      "source": [
        "def create_model(X, y):\n",
        "    X = X/255.0\n",
        "\n",
        "    dense_layers = [0]\n",
        "    layer_sizes = [128]\n",
        "    conv_layers = [1]\n",
        "\n",
        "    for dense_layer in dense_layers:\n",
        "        for layer_size in layer_sizes:\n",
        "            for conv_layer in conv_layers:\n",
        "                NAME = \"{}-conv-{}-nodes-{}-dense-{}\".format(conv_layer, layer_size, dense_layer, int(time.time()))\n",
        "                print(NAME)\n",
        "\n",
        "                model = Sequential()\n",
        "\n",
        "                model.add(Conv2D(layer_size, (3, 3), input_shape=X.shape[1:]))\n",
        "                model.add(Activation('relu'))\n",
        "                BatchNormalization()\n",
        "                model.add(MaxPooling2D(pool_size=(2, 2)))\n",
        "\n",
        "                for l in range(conv_layer-1):\n",
        "                    model.add(Conv2D(layer_size, (3, 3)))\n",
        "                    model.add(Activation('relu'))\n",
        "                    model.add(MaxPooling2D(pool_size=(2, 2)))\n",
        "\n",
        "                model.add(Flatten())\n",
        "\n",
        "                for _ in range(dense_layer):\n",
        "                    model.add(Dense(layer_size))\n",
        "                    model.add(Activation('relu'))\n",
        "\n",
        "                model.add(Dense(1))\n",
        "                model.add(Activation('sigmoid'))\n",
        "\n",
        "                tensorboard = TensorBoard(log_dir=\"logs/{}\".format(NAME))\n",
        "\n",
        "                model.compile(loss='binary_crossentropy',\n",
        "                              optimizer='Adamax',\n",
        "                              metrics=['accuracy'],\n",
        "                              )\n",
        "    \n",
        "    return model\n",
        "    \n",
        "# Create a basic model instance\n",
        "model = create_model(X,y)\n",
        "\n",
        "# Display the model's architecture\n",
        "model.summary()"
      ],
      "metadata": {
        "colab": {
          "base_uri": "https://localhost:8080/"
        },
        "id": "qFOhCoxe7-6G",
        "outputId": "e68a0a48-a620-42ce-cf79-501e6fa01f32"
      },
      "execution_count": null,
      "outputs": [
        {
          "output_type": "stream",
          "name": "stdout",
          "text": [
            "1-conv-128-nodes-0-dense-1640005399\n",
            "Model: \"sequential\"\n",
            "_________________________________________________________________\n",
            " Layer (type)                Output Shape              Param #   \n",
            "=================================================================\n",
            " conv2d (Conv2D)             (None, 98, 98, 128)       1280      \n",
            "                                                                 \n",
            " activation (Activation)     (None, 98, 98, 128)       0         \n",
            "                                                                 \n",
            " max_pooling2d (MaxPooling2D  (None, 49, 49, 128)      0         \n",
            " )                                                               \n",
            "                                                                 \n",
            " flatten (Flatten)           (None, 307328)            0         \n",
            "                                                                 \n",
            " dense (Dense)               (None, 1)                 307329    \n",
            "                                                                 \n",
            " activation_1 (Activation)   (None, 1)                 0         \n",
            "                                                                 \n",
            "=================================================================\n",
            "Total params: 308,609\n",
            "Trainable params: 308,609\n",
            "Non-trainable params: 0\n",
            "_________________________________________________________________\n"
          ]
        }
      ]
    },
    {
      "cell_type": "code",
      "source": [
        "checkpoint_path = \"training_1/cp.ckpt\"\n",
        "checkpoint_dir = os.path.dirname(checkpoint_path)\n",
        "\n",
        "cp_callback = tf.keras.callbacks.ModelCheckpoint(filepath=checkpoint_path,\n",
        "                                                    save_weights_only=True,\n",
        "                                                    verbose=1)\n",
        "model.fit(X, y, batch_size=40, epochs=30, validation_split=0.2, callbacks=[cp_callback])"
      ],
      "metadata": {
        "colab": {
          "base_uri": "https://localhost:8080/"
        },
        "id": "TLyVXqWh8EwY",
        "outputId": "be191d6e-45e2-44de-f19f-1ed5b32e9ca3"
      },
      "execution_count": null,
      "outputs": [
        {
          "output_type": "stream",
          "name": "stdout",
          "text": [
            "Epoch 1/30\n",
            "10/10 [==============================] - ETA: 0s - loss: 1369.9738 - accuracy: 0.4413\n",
            "Epoch 00001: saving model to training_1/cp.ckpt\n",
            "10/10 [==============================] - 12s 1s/step - loss: 1369.9738 - accuracy: 0.4413 - val_loss: 676.3249 - val_accuracy: 0.4896\n",
            "Epoch 2/30\n",
            "10/10 [==============================] - ETA: 0s - loss: 430.7007 - accuracy: 0.4961\n",
            "Epoch 00002: saving model to training_1/cp.ckpt\n",
            "10/10 [==============================] - 6s 562ms/step - loss: 430.7007 - accuracy: 0.4961 - val_loss: 80.1502 - val_accuracy: 0.4896\n",
            "Epoch 3/30\n",
            "10/10 [==============================] - ETA: 0s - loss: 141.9941 - accuracy: 0.5170\n",
            "Epoch 00003: saving model to training_1/cp.ckpt\n",
            "10/10 [==============================] - 6s 583ms/step - loss: 141.9941 - accuracy: 0.5170 - val_loss: 95.8601 - val_accuracy: 0.5104\n",
            "Epoch 4/30\n",
            "10/10 [==============================] - ETA: 0s - loss: 46.1210 - accuracy: 0.5561\n",
            "Epoch 00004: saving model to training_1/cp.ckpt\n",
            "10/10 [==============================] - 6s 564ms/step - loss: 46.1210 - accuracy: 0.5561 - val_loss: 46.6319 - val_accuracy: 0.5104\n",
            "Epoch 5/30\n",
            "10/10 [==============================] - ETA: 0s - loss: 17.0935 - accuracy: 0.7050\n",
            "Epoch 00005: saving model to training_1/cp.ckpt\n",
            "10/10 [==============================] - 6s 582ms/step - loss: 17.0935 - accuracy: 0.7050 - val_loss: 10.2071 - val_accuracy: 0.6042\n",
            "Epoch 6/30\n",
            "10/10 [==============================] - ETA: 0s - loss: 4.9947 - accuracy: 0.7885\n",
            "Epoch 00006: saving model to training_1/cp.ckpt\n",
            "10/10 [==============================] - 6s 566ms/step - loss: 4.9947 - accuracy: 0.7885 - val_loss: 0.2204 - val_accuracy: 0.9479\n",
            "Epoch 7/30\n",
            "10/10 [==============================] - ETA: 0s - loss: 0.5986 - accuracy: 0.9582\n",
            "Epoch 00007: saving model to training_1/cp.ckpt\n",
            "10/10 [==============================] - 6s 558ms/step - loss: 0.5986 - accuracy: 0.9582 - val_loss: 0.2469 - val_accuracy: 0.9792\n",
            "Epoch 8/30\n",
            "10/10 [==============================] - ETA: 0s - loss: 0.3868 - accuracy: 0.9713\n",
            "Epoch 00008: saving model to training_1/cp.ckpt\n",
            "10/10 [==============================] - 6s 560ms/step - loss: 0.3868 - accuracy: 0.9713 - val_loss: 0.6470 - val_accuracy: 0.9375\n",
            "Epoch 9/30\n",
            "10/10 [==============================] - ETA: 0s - loss: 0.1444 - accuracy: 0.9817\n",
            "Epoch 00009: saving model to training_1/cp.ckpt\n",
            "10/10 [==============================] - 5s 550ms/step - loss: 0.1444 - accuracy: 0.9817 - val_loss: 2.7175e-08 - val_accuracy: 1.0000\n",
            "Epoch 10/30\n",
            "10/10 [==============================] - ETA: 0s - loss: 3.6379e-05 - accuracy: 1.0000\n",
            "Epoch 00010: saving model to training_1/cp.ckpt\n",
            "10/10 [==============================] - 6s 573ms/step - loss: 3.6379e-05 - accuracy: 1.0000 - val_loss: 4.5978e-04 - val_accuracy: 1.0000\n",
            "Epoch 11/30\n",
            "10/10 [==============================] - ETA: 0s - loss: 0.0048 - accuracy: 1.0000\n",
            "Epoch 00011: saving model to training_1/cp.ckpt\n",
            "10/10 [==============================] - 5s 544ms/step - loss: 0.0048 - accuracy: 1.0000 - val_loss: 3.6228e-07 - val_accuracy: 1.0000\n",
            "Epoch 12/30\n",
            "10/10 [==============================] - ETA: 0s - loss: 2.1623e-08 - accuracy: 1.0000\n",
            "Epoch 00012: saving model to training_1/cp.ckpt\n",
            "10/10 [==============================] - 6s 571ms/step - loss: 2.1623e-08 - accuracy: 1.0000 - val_loss: 7.1540e-10 - val_accuracy: 1.0000\n",
            "Epoch 13/30\n",
            "10/10 [==============================] - ETA: 0s - loss: 9.0510e-11 - accuracy: 1.0000\n",
            "Epoch 00013: saving model to training_1/cp.ckpt\n",
            "10/10 [==============================] - 6s 557ms/step - loss: 9.0510e-11 - accuracy: 1.0000 - val_loss: 8.2815e-11 - val_accuracy: 1.0000\n",
            "Epoch 14/30\n",
            "10/10 [==============================] - ETA: 0s - loss: 1.9854e-11 - accuracy: 1.0000\n",
            "Epoch 00014: saving model to training_1/cp.ckpt\n",
            "10/10 [==============================] - 6s 564ms/step - loss: 1.9854e-11 - accuracy: 1.0000 - val_loss: 3.8899e-11 - val_accuracy: 1.0000\n",
            "Epoch 15/30\n",
            "10/10 [==============================] - ETA: 0s - loss: 9.8738e-12 - accuracy: 1.0000\n",
            "Epoch 00015: saving model to training_1/cp.ckpt\n",
            "10/10 [==============================] - 6s 570ms/step - loss: 9.8738e-12 - accuracy: 1.0000 - val_loss: 2.9829e-11 - val_accuracy: 1.0000\n",
            "Epoch 16/30\n",
            "10/10 [==============================] - ETA: 0s - loss: 8.4316e-12 - accuracy: 1.0000\n",
            "Epoch 00016: saving model to training_1/cp.ckpt\n",
            "10/10 [==============================] - 6s 580ms/step - loss: 8.4316e-12 - accuracy: 1.0000 - val_loss: 2.7171e-11 - val_accuracy: 1.0000\n",
            "Epoch 17/30\n",
            "10/10 [==============================] - ETA: 0s - loss: 7.8618e-12 - accuracy: 1.0000\n",
            "Epoch 00017: saving model to training_1/cp.ckpt\n",
            "10/10 [==============================] - 6s 570ms/step - loss: 7.8618e-12 - accuracy: 1.0000 - val_loss: 2.6292e-11 - val_accuracy: 1.0000\n",
            "Epoch 18/30\n",
            "10/10 [==============================] - ETA: 0s - loss: 7.6640e-12 - accuracy: 1.0000\n",
            "Epoch 00018: saving model to training_1/cp.ckpt\n",
            "10/10 [==============================] - 6s 562ms/step - loss: 7.6640e-12 - accuracy: 1.0000 - val_loss: 2.5990e-11 - val_accuracy: 1.0000\n",
            "Epoch 19/30\n",
            "10/10 [==============================] - ETA: 0s - loss: 7.5999e-12 - accuracy: 1.0000\n",
            "Epoch 00019: saving model to training_1/cp.ckpt\n",
            "10/10 [==============================] - 7s 712ms/step - loss: 7.5999e-12 - accuracy: 1.0000 - val_loss: 2.5885e-11 - val_accuracy: 1.0000\n",
            "Epoch 20/30\n",
            "10/10 [==============================] - ETA: 0s - loss: 7.5786e-12 - accuracy: 1.0000\n",
            "Epoch 00020: saving model to training_1/cp.ckpt\n",
            "10/10 [==============================] - 6s 556ms/step - loss: 7.5786e-12 - accuracy: 1.0000 - val_loss: 2.5853e-11 - val_accuracy: 1.0000\n",
            "Epoch 21/30\n",
            "10/10 [==============================] - ETA: 0s - loss: 7.5743e-12 - accuracy: 1.0000\n",
            "Epoch 00021: saving model to training_1/cp.ckpt\n",
            "10/10 [==============================] - 6s 550ms/step - loss: 7.5743e-12 - accuracy: 1.0000 - val_loss: 2.5847e-11 - val_accuracy: 1.0000\n",
            "Epoch 22/30\n",
            "10/10 [==============================] - ETA: 0s - loss: 7.5734e-12 - accuracy: 1.0000\n",
            "Epoch 00022: saving model to training_1/cp.ckpt\n",
            "10/10 [==============================] - 5s 537ms/step - loss: 7.5734e-12 - accuracy: 1.0000 - val_loss: 2.5845e-11 - val_accuracy: 1.0000\n",
            "Epoch 23/30\n",
            "10/10 [==============================] - ETA: 0s - loss: 7.5732e-12 - accuracy: 1.0000\n",
            "Epoch 00023: saving model to training_1/cp.ckpt\n",
            "10/10 [==============================] - 5s 531ms/step - loss: 7.5732e-12 - accuracy: 1.0000 - val_loss: 2.5845e-11 - val_accuracy: 1.0000\n",
            "Epoch 24/30\n",
            "10/10 [==============================] - ETA: 0s - loss: 7.5732e-12 - accuracy: 1.0000\n",
            "Epoch 00024: saving model to training_1/cp.ckpt\n",
            "10/10 [==============================] - 5s 510ms/step - loss: 7.5732e-12 - accuracy: 1.0000 - val_loss: 2.5845e-11 - val_accuracy: 1.0000\n",
            "Epoch 25/30\n",
            "10/10 [==============================] - ETA: 0s - loss: 7.5732e-12 - accuracy: 1.0000\n",
            "Epoch 00025: saving model to training_1/cp.ckpt\n",
            "10/10 [==============================] - 6s 561ms/step - loss: 7.5732e-12 - accuracy: 1.0000 - val_loss: 2.5845e-11 - val_accuracy: 1.0000\n",
            "Epoch 26/30\n",
            "10/10 [==============================] - ETA: 0s - loss: 7.5732e-12 - accuracy: 1.0000\n",
            "Epoch 00026: saving model to training_1/cp.ckpt\n",
            "10/10 [==============================] - 6s 578ms/step - loss: 7.5732e-12 - accuracy: 1.0000 - val_loss: 2.5845e-11 - val_accuracy: 1.0000\n",
            "Epoch 27/30\n",
            "10/10 [==============================] - ETA: 0s - loss: 7.5732e-12 - accuracy: 1.0000\n",
            "Epoch 00027: saving model to training_1/cp.ckpt\n",
            "10/10 [==============================] - 5s 532ms/step - loss: 7.5732e-12 - accuracy: 1.0000 - val_loss: 2.5845e-11 - val_accuracy: 1.0000\n",
            "Epoch 28/30\n",
            "10/10 [==============================] - ETA: 0s - loss: 7.5732e-12 - accuracy: 1.0000\n",
            "Epoch 00028: saving model to training_1/cp.ckpt\n",
            "10/10 [==============================] - 6s 560ms/step - loss: 7.5732e-12 - accuracy: 1.0000 - val_loss: 2.5845e-11 - val_accuracy: 1.0000\n",
            "Epoch 29/30\n",
            "10/10 [==============================] - ETA: 0s - loss: 7.5732e-12 - accuracy: 1.0000\n",
            "Epoch 00029: saving model to training_1/cp.ckpt\n",
            "10/10 [==============================] - 5s 553ms/step - loss: 7.5732e-12 - accuracy: 1.0000 - val_loss: 2.5845e-11 - val_accuracy: 1.0000\n",
            "Epoch 30/30\n",
            "10/10 [==============================] - ETA: 0s - loss: 7.5732e-12 - accuracy: 1.0000\n",
            "Epoch 00030: saving model to training_1/cp.ckpt\n",
            "10/10 [==============================] - 6s 580ms/step - loss: 7.5732e-12 - accuracy: 1.0000 - val_loss: 2.5845e-11 - val_accuracy: 1.0000\n"
          ]
        },
        {
          "output_type": "execute_result",
          "data": {
            "text/plain": [
              "<keras.callbacks.History at 0x7f1318d40a50>"
            ]
          },
          "metadata": {},
          "execution_count": 25
        }
      ]
    },
    {
      "cell_type": "code",
      "source": [
        "os.listdir(checkpoint_dir)"
      ],
      "metadata": {
        "colab": {
          "base_uri": "https://localhost:8080/"
        },
        "id": "dhT22CPf9AiY",
        "outputId": "36a15a9f-7fbd-4db6-b553-d50a6207d3f5"
      },
      "execution_count": null,
      "outputs": [
        {
          "output_type": "execute_result",
          "data": {
            "text/plain": [
              "['cp.ckpt.data-00000-of-00001', 'checkpoint', 'cp.ckpt.index']"
            ]
          },
          "metadata": {},
          "execution_count": 26
        }
      ]
    },
    {
      "cell_type": "code",
      "source": [
        "# Create a basic model instance\n",
        "model = create_model(X, y)\n",
        "\n",
        "# Evaluate the model\n",
        "loss, acc = model.evaluate(X, y, verbose=2)\n",
        "print(\"Untrained model, accuracy: {:5.2f}%\".format(100 * acc))"
      ],
      "metadata": {
        "colab": {
          "base_uri": "https://localhost:8080/"
        },
        "id": "fAe-kilA9IGi",
        "outputId": "48d08f16-30a9-4059-fd5f-5c57f1774de9"
      },
      "execution_count": null,
      "outputs": [
        {
          "output_type": "stream",
          "name": "stdout",
          "text": [
            "1-conv-128-nodes-0-dense-1640005682\n",
            "15/15 - 3s - loss: 23.7217 - accuracy: 0.5010 - 3s/epoch - 185ms/step\n",
            "Untrained model, accuracy: 50.10%\n"
          ]
        }
      ]
    },
    {
      "cell_type": "code",
      "source": [
        "# Loads the weights\n",
        "model.load_weights(checkpoint_path)\n",
        "\n",
        "# Re-evaluate the model\n",
        "loss, acc = model.evaluate(X, y, verbose=2)\n",
        "print(\"Restored model, accuracy: {:5.2f}%\".format(100 * acc))"
      ],
      "metadata": {
        "colab": {
          "base_uri": "https://localhost:8080/"
        },
        "id": "0POi5XTR9LsK",
        "outputId": "8ae06991-2d84-4fd5-ed29-c526e9dd71f3"
      },
      "execution_count": null,
      "outputs": [
        {
          "output_type": "stream",
          "name": "stdout",
          "text": [
            "15/15 - 2s - loss: 1.1235e-11 - accuracy: 1.0000 - 2s/epoch - 145ms/step\n",
            "Restored model, accuracy: 100.00%\n"
          ]
        }
      ]
    },
    {
      "cell_type": "code",
      "source": [
        "# Include the epoch in the file name (uses `str.format`)\n",
        "checkpoint_path = \"training_2/cp-{epoch:04d}.ckpt\"\n",
        "checkpoint_dir = os.path.dirname(checkpoint_path)\n",
        "\n",
        "batch_size=40\n",
        "# Create a callback that saves the model's weights every 5 epochs\n",
        "cp_callback = tf.keras.callbacks.ModelCheckpoint(\n",
        "    filepath=checkpoint_path, \n",
        "    verbose=1, \n",
        "    save_weights_only=True,\n",
        "    save_freq=5*batch_size)\n",
        "\n",
        "# Create a new model instance\n",
        "model = create_model(X, y)\n",
        "\n",
        "# Save the weights using the `checkpoint_path` format\n",
        "model.save_weights(checkpoint_path.format(epoch=0))\n",
        "\n",
        "model.fit(X, \n",
        "          y,\n",
        "          epochs=50, \n",
        "          batch_size=batch_size, \n",
        "          callbacks=[cp_callback],\n",
        "          validation_data=(X, y),\n",
        "          verbose=0)\n",
        "\n"
      ],
      "metadata": {
        "colab": {
          "base_uri": "https://localhost:8080/"
        },
        "id": "sEc61PVw9NYC",
        "outputId": "7a4d5f3d-6e77-47ce-f3a1-b062d9579108"
      },
      "execution_count": null,
      "outputs": [
        {
          "output_type": "stream",
          "name": "stdout",
          "text": [
            "1-conv-128-nodes-0-dense-1640005745\n",
            "\n",
            "Epoch 00017: saving model to training_2/cp-0017.ckpt\n",
            "\n",
            "Epoch 00034: saving model to training_2/cp-0034.ckpt\n",
            "\n",
            "Epoch 00050: saving model to training_2/cp-0050.ckpt\n"
          ]
        },
        {
          "output_type": "execute_result",
          "data": {
            "text/plain": [
              "<keras.callbacks.History at 0x7f1318bbddd0>"
            ]
          },
          "metadata": {},
          "execution_count": 29
        }
      ]
    },
    {
      "cell_type": "code",
      "source": [
        "os.listdir(checkpoint_dir)"
      ],
      "metadata": {
        "colab": {
          "base_uri": "https://localhost:8080/"
        },
        "id": "BmHggq4q_A3b",
        "outputId": "0f625e48-9ba8-45ed-cfc6-ba8944c1d522"
      },
      "execution_count": null,
      "outputs": [
        {
          "output_type": "execute_result",
          "data": {
            "text/plain": [
              "['cp-0000.ckpt.data-00000-of-00001',\n",
              " 'cp-0017.ckpt.index',\n",
              " 'cp-0017.ckpt.data-00000-of-00001',\n",
              " 'cp-0000.ckpt.index',\n",
              " 'cp-0050.ckpt.data-00000-of-00001',\n",
              " 'checkpoint',\n",
              " 'cp-0034.ckpt.data-00000-of-00001',\n",
              " 'cp-0034.ckpt.index',\n",
              " 'cp-0050.ckpt.index']"
            ]
          },
          "metadata": {},
          "execution_count": 30
        }
      ]
    },
    {
      "cell_type": "code",
      "source": [
        "latest = tf.train.latest_checkpoint(checkpoint_dir)\n",
        "latest"
      ],
      "metadata": {
        "colab": {
          "base_uri": "https://localhost:8080/",
          "height": 36
        },
        "id": "DvZBZt6Y_DWn",
        "outputId": "73bf39f6-a4fc-4dc6-eb1f-d34876bf4ec3"
      },
      "execution_count": null,
      "outputs": [
        {
          "output_type": "execute_result",
          "data": {
            "application/vnd.google.colaboratory.intrinsic+json": {
              "type": "string"
            },
            "text/plain": [
              "'training_2/cp-0050.ckpt'"
            ]
          },
          "metadata": {},
          "execution_count": 31
        }
      ]
    },
    {
      "cell_type": "code",
      "source": [
        "# Create a new model instance\n",
        "model = create_model(X, y)\n",
        "\n",
        "# Load the previously saved weights\n",
        "model.load_weights(latest)\n",
        "\n",
        "# Re-evaluate the model\n",
        "loss, acc = model.evaluate(X, y, verbose=2)\n",
        "print(\"Restored model, accuracy: {:5.2f}%\".format(100 * acc))"
      ],
      "metadata": {
        "colab": {
          "base_uri": "https://localhost:8080/"
        },
        "id": "kWNaBQk9_ZXw",
        "outputId": "b968a8f9-6467-4283-b435-783769b38330"
      },
      "execution_count": null,
      "outputs": [
        {
          "output_type": "stream",
          "name": "stdout",
          "text": [
            "1-conv-128-nodes-0-dense-1640006285\n",
            "15/15 - 2s - loss: 1.0049e-13 - accuracy: 1.0000 - 2s/epoch - 161ms/step\n",
            "Restored model, accuracy: 100.00%\n"
          ]
        }
      ]
    },
    {
      "cell_type": "code",
      "source": [
        "# Save the weights\n",
        "model.save_weights('./checkpoints/my_checkpoint')\n",
        "\n",
        "# Create a new model instance\n",
        "model = create_model(X, y)\n",
        "\n",
        "# Restore the weights\n",
        "model.load_weights('./checkpoints/my_checkpoint')\n",
        "\n",
        "# Evaluate the model\n",
        "loss, acc = model.evaluate(X, y, verbose=2)\n",
        "print(\"Restored model, accuracy: {:5.2f}%\".format(100 * acc))"
      ],
      "metadata": {
        "colab": {
          "base_uri": "https://localhost:8080/"
        },
        "id": "z1sjRotd_dZx",
        "outputId": "ce47322d-b62b-4632-ec15-2bbbdb8310e3"
      },
      "execution_count": null,
      "outputs": [
        {
          "output_type": "stream",
          "name": "stdout",
          "text": [
            "1-conv-128-nodes-0-dense-1640006315\n",
            "15/15 - 1s - loss: 1.0049e-13 - accuracy: 1.0000 - 1s/epoch - 98ms/step\n",
            "Restored model, accuracy: 100.00%\n"
          ]
        }
      ]
    },
    {
      "cell_type": "code",
      "source": [
        "# Create and train a new model instance.\n",
        "model = create_model(X, y)\n",
        "model.fit(X, y, epochs=5)\n",
        "\n",
        "# Save the entire model as a SavedModel.\n",
        "!mkdir -p saved_model\n",
        "model.save('saved_model/ECG_Classificaton_CNN_Model') "
      ],
      "metadata": {
        "colab": {
          "base_uri": "https://localhost:8080/"
        },
        "id": "OkEhRq3H_mn-",
        "outputId": "30ef09c6-15e2-4170-a874-d3e8ed721bd2"
      },
      "execution_count": null,
      "outputs": [
        {
          "output_type": "stream",
          "name": "stdout",
          "text": [
            "1-conv-128-nodes-0-dense-1640006376\n",
            "Epoch 1/5\n",
            "15/15 [==============================] - 7s 447ms/step - loss: 502.6375 - accuracy: 0.4885\n",
            "Epoch 2/5\n",
            "15/15 [==============================] - 7s 443ms/step - loss: 57.6212 - accuracy: 0.5595\n",
            "Epoch 3/5\n",
            "15/15 [==============================] - 7s 455ms/step - loss: 10.0721 - accuracy: 0.7495\n",
            "Epoch 4/5\n",
            "15/15 [==============================] - 7s 459ms/step - loss: 3.9595 - accuracy: 0.8518\n",
            "Epoch 5/5\n",
            "15/15 [==============================] - 7s 464ms/step - loss: 2.0188 - accuracy: 0.8894\n",
            "WARNING:tensorflow:Unresolved object in checkpoint: (root).optimizer.iter\n",
            "WARNING:tensorflow:Unresolved object in checkpoint: (root).optimizer.beta_1\n",
            "WARNING:tensorflow:Unresolved object in checkpoint: (root).optimizer.beta_2\n",
            "WARNING:tensorflow:Unresolved object in checkpoint: (root).optimizer.decay\n",
            "WARNING:tensorflow:Unresolved object in checkpoint: (root).optimizer.learning_rate\n",
            "WARNING:tensorflow:A checkpoint was restored (e.g. tf.train.Checkpoint.restore or tf.keras.Model.load_weights) but not all checkpointed values were used. See above for specific issues. Use expect_partial() on the load status object, e.g. tf.train.Checkpoint.restore(...).expect_partial(), to silence these warnings, or use assert_consumed() to make the check explicit. See https://www.tensorflow.org/guide/checkpoint#loading_mechanics for details.\n",
            "WARNING:tensorflow:Unresolved object in checkpoint: (root).optimizer.iter\n",
            "WARNING:tensorflow:Unresolved object in checkpoint: (root).optimizer.beta_1\n",
            "WARNING:tensorflow:Unresolved object in checkpoint: (root).optimizer.beta_2\n",
            "WARNING:tensorflow:Unresolved object in checkpoint: (root).optimizer.decay\n",
            "WARNING:tensorflow:Unresolved object in checkpoint: (root).optimizer.learning_rate\n",
            "WARNING:tensorflow:A checkpoint was restored (e.g. tf.train.Checkpoint.restore or tf.keras.Model.load_weights) but not all checkpointed values were used. See above for specific issues. Use expect_partial() on the load status object, e.g. tf.train.Checkpoint.restore(...).expect_partial(), to silence these warnings, or use assert_consumed() to make the check explicit. See https://www.tensorflow.org/guide/checkpoint#loading_mechanics for details.\n",
            "INFO:tensorflow:Assets written to: saved_model/ECG_Classificaton_CNN_Model/assets\n"
          ]
        }
      ]
    },
    {
      "cell_type": "code",
      "source": [
        "# my_model directory\n",
        "!ls saved_model/ECG_Classificaton_CNN_Model\n",
        "\n",
        "# Contains an assets folder, saved_model.pb, and variables folder.\n",
        "!ls saved_model/ECG_Classificaton_CNN_Model"
      ],
      "metadata": {
        "colab": {
          "base_uri": "https://localhost:8080/"
        },
        "id": "9cmNXNt9AYYX",
        "outputId": "b89ac49d-cdf9-4ef6-9684-28e4e4d1598b"
      },
      "execution_count": null,
      "outputs": [
        {
          "output_type": "stream",
          "name": "stdout",
          "text": [
            "assets\tkeras_metadata.pb  saved_model.pb  variables\n",
            "assets\tkeras_metadata.pb  saved_model.pb  variables\n"
          ]
        }
      ]
    },
    {
      "cell_type": "code",
      "source": [
        "new_model = tf.keras.models.load_model('saved_model/ECG_Classificaton_CNN_Model')\n",
        "\n",
        "# Check its architecture\n",
        "new_model.summary()"
      ],
      "metadata": {
        "colab": {
          "base_uri": "https://localhost:8080/"
        },
        "id": "8ehUsQMBAZ9R",
        "outputId": "263726a5-9315-4495-e644-b33f0e65f21e"
      },
      "execution_count": null,
      "outputs": [
        {
          "output_type": "stream",
          "name": "stdout",
          "text": [
            "Model: \"sequential_5\"\n",
            "_________________________________________________________________\n",
            " Layer (type)                Output Shape              Param #   \n",
            "=================================================================\n",
            " conv2d_5 (Conv2D)           (None, 98, 98, 128)       1280      \n",
            "                                                                 \n",
            " activation_10 (Activation)  (None, 98, 98, 128)       0         \n",
            "                                                                 \n",
            " max_pooling2d_5 (MaxPooling  (None, 49, 49, 128)      0         \n",
            " 2D)                                                             \n",
            "                                                                 \n",
            " flatten_5 (Flatten)         (None, 307328)            0         \n",
            "                                                                 \n",
            " dense_5 (Dense)             (None, 1)                 307329    \n",
            "                                                                 \n",
            " activation_11 (Activation)  (None, 1)                 0         \n",
            "                                                                 \n",
            "=================================================================\n",
            "Total params: 308,609\n",
            "Trainable params: 308,609\n",
            "Non-trainable params: 0\n",
            "_________________________________________________________________\n"
          ]
        }
      ]
    },
    {
      "cell_type": "code",
      "source": [
        "# Evaluate the restored model\n",
        "loss, acc = new_model.evaluate(X, y, verbose=2)\n",
        "print('Restored model, accuracy: {:5.2f}%'.format(100 * acc))\n",
        "\n",
        "print(new_model.predict(X).shape)"
      ],
      "metadata": {
        "colab": {
          "base_uri": "https://localhost:8080/"
        },
        "id": "eA4bG8VyAzb8",
        "outputId": "8e49530e-82e8-485e-c51e-700b34401480"
      },
      "execution_count": null,
      "outputs": [
        {
          "output_type": "stream",
          "name": "stdout",
          "text": [
            "15/15 - 3s - loss: 5.4268e-05 - accuracy: 1.0000 - 3s/epoch - 168ms/step\n",
            "Restored model, accuracy: 100.00%\n",
            "(479, 1)\n"
          ]
        }
      ]
    },
    {
      "cell_type": "code",
      "source": [
        "# Create and train a new model instance.\n",
        "model = create_model(X, y)\n",
        "model.fit(X, y, epochs=5)\n",
        "\n",
        "# Save the entire model to a HDF5 file.\n",
        "# The '.h5' extension indicates that the model should be saved to HDF5.\n",
        "model.save('ECG_Classificaton_CNN_Model.h5') "
      ],
      "metadata": {
        "colab": {
          "base_uri": "https://localhost:8080/"
        },
        "id": "_iP7uO7cBAi-",
        "outputId": "d121360d-14cf-473a-c68e-997b7a3863d1"
      },
      "execution_count": null,
      "outputs": [
        {
          "output_type": "stream",
          "name": "stdout",
          "text": [
            "1-conv-128-nodes-0-dense-1640006735\n",
            "Epoch 1/5\n",
            "15/15 [==============================] - 7s 449ms/step - loss: 536.3438 - accuracy: 0.5177\n",
            "Epoch 2/5\n",
            "15/15 [==============================] - 7s 436ms/step - loss: 118.0504 - accuracy: 0.5115\n",
            "Epoch 3/5\n",
            "15/15 [==============================] - 6s 429ms/step - loss: 13.3442 - accuracy: 0.6889\n",
            "Epoch 4/5\n",
            "15/15 [==============================] - 6s 418ms/step - loss: 1.6596 - accuracy: 0.8831\n",
            "Epoch 5/5\n",
            "15/15 [==============================] - 6s 425ms/step - loss: 0.4421 - accuracy: 0.9457\n"
          ]
        }
      ]
    },
    {
      "cell_type": "code",
      "source": [
        "# Recreate the exact same model, including its weights and the optimizer\n",
        "new_model = tf.keras.models.load_model('ECG_Classificaton_CNN_Model.h5')\n",
        "\n",
        "# Show the model architecture\n",
        "new_model.summary()"
      ],
      "metadata": {
        "colab": {
          "base_uri": "https://localhost:8080/"
        },
        "id": "XkLSd49RBV6O",
        "outputId": "41aa1089-02f8-40ef-dd0e-bc6e7d476aa0"
      },
      "execution_count": null,
      "outputs": [
        {
          "output_type": "stream",
          "name": "stdout",
          "text": [
            "Model: \"sequential_6\"\n",
            "_________________________________________________________________\n",
            " Layer (type)                Output Shape              Param #   \n",
            "=================================================================\n",
            " conv2d_6 (Conv2D)           (None, 98, 98, 128)       1280      \n",
            "                                                                 \n",
            " activation_12 (Activation)  (None, 98, 98, 128)       0         \n",
            "                                                                 \n",
            " max_pooling2d_6 (MaxPooling  (None, 49, 49, 128)      0         \n",
            " 2D)                                                             \n",
            "                                                                 \n",
            " flatten_6 (Flatten)         (None, 307328)            0         \n",
            "                                                                 \n",
            " dense_6 (Dense)             (None, 1)                 307329    \n",
            "                                                                 \n",
            " activation_13 (Activation)  (None, 1)                 0         \n",
            "                                                                 \n",
            "=================================================================\n",
            "Total params: 308,609\n",
            "Trainable params: 308,609\n",
            "Non-trainable params: 0\n",
            "_________________________________________________________________\n"
          ]
        }
      ]
    },
    {
      "cell_type": "code",
      "source": [
        "loss, acc = new_model.evaluate(X, y, verbose=2)\n",
        "print('Restored model, accuracy: {:5.2f}%'.format(100 * acc))"
      ],
      "metadata": {
        "colab": {
          "base_uri": "https://localhost:8080/"
        },
        "id": "trshTvKvBi1v",
        "outputId": "58480524-6855-46ae-f854-4270aa0d0a3e"
      },
      "execution_count": null,
      "outputs": [
        {
          "output_type": "stream",
          "name": "stdout",
          "text": [
            "15/15 - 2s - loss: 0.0467 - accuracy: 0.9833 - 2s/epoch - 117ms/step\n",
            "Restored model, accuracy: 98.33%\n"
          ]
        }
      ]
    },
    {
      "cell_type": "code",
      "source": [
        "def prepare(filepath):\n",
        "    IMG_SIZE = 100  \n",
        "    img_array = cv2.imread(filepath, cv2.IMREAD_GRAYSCALE)\n",
        "    new_array = cv2.resize(img_array, (IMG_SIZE, IMG_SIZE))\n",
        "    plt.imshow(img_array, cmap='gray')  \n",
        "    plt.show()\n",
        "    return new_array.reshape(-1, IMG_SIZE, IMG_SIZE, 1)\n",
        "\n",
        "model = tf.keras.models.load_model(\"ECG_Classificaton_CNN_Model.h5\")\n",
        "\n",
        "prediction = model.predict([prepare('/content/drive/MyDrive/Colab Notebooks/DS2/ECG/MI Patient/MI(103).jpg')])\n",
        "print(prediction)  \n",
        "print(CATEGORIES[int(prediction[0][0])])"
      ],
      "metadata": {
        "colab": {
          "base_uri": "https://localhost:8080/",
          "height": 307
        },
        "id": "kowyc8TuBYis",
        "outputId": "f49fcac3-a879-48b2-8070-ca8efa6923c7"
      },
      "execution_count": null,
      "outputs": [
        {
          "output_type": "display_data",
          "data": {
            "image/png": "[encoded data removed]",
            "text/plain": [
              "<Figure size 432x288 with 1 Axes>"
            ]
          },
          "metadata": {
            "needs_background": "light"
          }
        },
        {
          "output_type": "stream",
          "name": "stdout",
          "text": [
            "[[2.8608229e-15]]\n",
            "MI Patient\n"
          ]
        }
      ]
    },
    {
      "cell_type": "code",
      "source": [
        "files.download(\"ECG_Classificaton_CNN_Model.h5\")"
      ],
      "metadata": {
        "colab": {
          "base_uri": "https://localhost:8080/",
          "height": 17
        },
        "id": "RD6jiqDrDlqf",
        "outputId": "a22df2c7-cc91-4a02-d4db-8140d4a4dd01"
      },
      "execution_count": null,
      "outputs": [
        {
          "output_type": "display_data",
          "data": {
            "application/javascript": [
              "\n",
              "    async function download(id, filename, size) {\n",
              "      if (!google.colab.kernel.accessAllowed) {\n",
              "        return;\n",
              "      }\n",
              "      const div = document.createElement('div');\n",
              "      const label = document.createElement('label');\n",
              "      label.textContent = `Downloading \"${filename}\": `;\n",
              "      div.appendChild(label);\n",
              "      const progress = document.createElement('progress');\n",
              "      progress.max = size;\n",
              "      div.appendChild(progress);\n",
              "      document.body.appendChild(div);\n",
              "\n",
              "      const buffers = [];\n",
              "      let downloaded = 0;\n",
              "\n",
              "      const channel = await google.colab.kernel.comms.open(id);\n",
              "      // Send a message to notify the kernel that we're ready.\n",
              "      channel.send({})\n",
              "\n",
              "      for await (const message of channel.messages) {\n",
              "        // Send a message to notify the kernel that we're ready.\n",
              "        channel.send({})\n",
              "        if (message.buffers) {\n",
              "          for (const buffer of message.buffers) {\n",
              "            buffers.push(buffer);\n",
              "            downloaded += buffer.byteLength;\n",
              "            progress.value = downloaded;\n",
              "          }\n",
              "        }\n",
              "      }\n",
              "      const blob = new Blob(buffers, {type: 'application/binary'});\n",
              "      const a = document.createElement('a');\n",
              "      a.href = window.URL.createObjectURL(blob);\n",
              "      a.download = filename;\n",
              "      div.appendChild(a);\n",
              "      a.click();\n",
              "      div.remove();\n",
              "    }\n",
              "  "
            ],
            "text/plain": [
              "<IPython.core.display.Javascript object>"
            ]
          },
          "metadata": {}
        },
        {
          "output_type": "display_data",
          "data": {
            "application/javascript": [
              "download(\"download_7db4a9c8-6820-4f39-821d-4f4fb31d47c4\", \"ECG_Classificaton_CNN_Model.h5\", 3733304)"
            ],
            "text/plain": [
              "<IPython.core.display.Javascript object>"
            ]
          },
          "metadata": {}
        }
      ]
    }
  ]
}